{
 "cells": [
  {
   "cell_type": "code",
   "execution_count": 1,
   "metadata": {
    "scrolled": false
   },
   "outputs": [],
   "source": [
    "# Download the required test grid from zenodo (using quiet option for no output)\n",
    "#!wget https://zenodo.org/record/2557923/files/phoenix_t4000_10000_w3000_9000_r3000.h5?download=1 -O test_grid.h5 -q"
   ]
  },
  {
   "cell_type": "code",
   "execution_count": 2,
   "metadata": {},
   "outputs": [],
   "source": [
    "# Disable all warnings & logging statements from displaying in output\n",
    "import warnings, logging\n",
    "warnings.simplefilter('ignore')\n",
    "logging.disable(logging.CRITICAL)"
   ]
  },
  {
   "cell_type": "code",
   "execution_count": 3,
   "metadata": {},
   "outputs": [],
   "source": [
    "from starkit.gridkit import load_grid\n",
    "from bqplot import pyplot as plt\n",
    "from ipywidgets import interactive, IntSlider, FloatSlider\n",
    "\n",
    "grid = load_grid('test_grid.h5')"
   ]
  },
  {
   "cell_type": "code",
   "execution_count": 4,
   "metadata": {},
   "outputs": [],
   "source": [
    "# Prepare sliders with their min, max from extent values\n",
    "teff_extent, logg_extent, mh_extent = grid.get_grid_extent()\n",
    "teff_slider = IntSlider(min=teff_extent[0], max=teff_extent[1], step=1, description='Teff', continuous_update=False)\n",
    "logg_slider = FloatSlider(min=logg_extent[0], max=logg_extent[1], step=0.1, description='log g', continuous_update=False)\n",
    "mh_slider = FloatSlider(min=mh_extent[0], max=mh_extent[1], step=0.1, description='[M/H]', continuous_update=False)\n",
    "\n",
    "# Function to plot spectrum\n",
    "def plot_spectrum(teff, logg, mh):\n",
    "    grid.teff = teff\n",
    "    grid.logg = logg\n",
    "    grid.mh = mh\n",
    "    wave, flux = grid()\n",
    "    \n",
    "    plt.figure(title='Spectrum')\n",
    "    plt.plot(wave,flux)\n",
    "    plt.xlabel('Wavelength (Ang)')\n",
    "    plt.ylabel('Flux')\n",
    "    plt.show()"
   ]
  },
  {
   "cell_type": "code",
   "execution_count": 5,
   "metadata": {},
   "outputs": [
    {
     "data": {
      "application/vnd.jupyter.widget-view+json": {
       "model_id": "4db9af60369746cca604103191a8895d",
       "version_major": 2,
       "version_minor": 0
      },
      "text/plain": [
       "interactive(children=(IntSlider(value=4000, continuous_update=False, description='Teff', max=10000, min=4000),…"
      ]
     },
     "metadata": {},
     "output_type": "display_data"
    }
   ],
   "source": [
    "# Interactively plot by binding sliders with function arguments\n",
    "interactive_plot = interactive(plot_spectrum, teff=teff_slider, logg=logg_slider, mh=mh_slider)\n",
    "\n",
    "# Fix height to prevent output from flickering\n",
    "output = interactive_plot.children[-1]\n",
    "output.layout.height = '600px'\n",
    "\n",
    "interactive_plot"
   ]
  },
  {
   "cell_type": "code",
   "execution_count": null,
   "metadata": {},
   "outputs": [],
   "source": []
  }
 ],
 "metadata": {
  "kernelspec": {
   "display_name": "Python 3",
   "language": "python",
   "name": "python3"
  },
  "language_info": {
   "codemirror_mode": {
    "name": "ipython",
    "version": 3
   },
   "file_extension": ".py",
   "mimetype": "text/x-python",
   "name": "python",
   "nbconvert_exporter": "python",
   "pygments_lexer": "ipython3",
   "version": "3.6.7"
  }
 },
 "nbformat": 4,
 "nbformat_minor": 2
}
